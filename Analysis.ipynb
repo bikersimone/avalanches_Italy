{
 "cells": [
  {
   "cell_type": "code",
   "execution_count": 41,
   "metadata": {
    "collapsed": true
   },
   "outputs": [],
   "source": [
    "import pandas as pd\n",
    "import numpy as np\n",
    "from matplotlib.pyplot import pie, axis, show"
   ]
  },
  {
   "cell_type": "code",
   "execution_count": 44,
   "metadata": {
    "collapsed": true
   },
   "outputs": [],
   "source": [
    "typedict = {1:'Sci alpinista in salita',\n",
    "2:'Sci alpinista in discesa',\n",
    "3:'Sciatore fuori pista',\n",
    "4:'Sciatore in pista',\n",
    "5:'Alpinista',\n",
    "6:'Persona su via di comunicazione',\n",
    "7:'Persona in abitazione',\n",
    "8:'Altre situazioni'}"
   ]
  },
  {
   "cell_type": "code",
   "execution_count": 31,
   "metadata": {
    "collapsed": false
   },
   "outputs": [],
   "source": [
    "rawdata = pd.read_csv('data 2000-2016.csv',sep=';')"
   ]
  },
  {
   "cell_type": "code",
   "execution_count": 32,
   "metadata": {
    "collapsed": false
   },
   "outputs": [],
   "source": [
    "cleandata = rawdata.fillna(0)"
   ]
  },
  {
   "cell_type": "code",
   "execution_count": 48,
   "metadata": {
    "collapsed": false
   },
   "outputs": [],
   "source": [
    "cleandata['SITUAZIONE'] = cleandata['TIPO'].apply(lambda x: typedict[x])"
   ]
  },
  {
   "cell_type": "code",
   "execution_count": 49,
   "metadata": {
    "collapsed": false
   },
   "outputs": [
    {
     "data": {
      "text/html": [
       "<div>\n",
       "<table border=\"1\" class=\"dataframe\">\n",
       "  <thead>\n",
       "    <tr style=\"text-align: right;\">\n",
       "      <th></th>\n",
       "      <th>DATA</th>\n",
       "      <th>PROVINCIA</th>\n",
       "      <th>LOCALITA</th>\n",
       "      <th>TIPO</th>\n",
       "      <th>TRAVOLTI</th>\n",
       "      <th>ILLESI</th>\n",
       "      <th>FERITI</th>\n",
       "      <th>MORTI</th>\n",
       "      <th>SITUAZIONE</th>\n",
       "    </tr>\n",
       "  </thead>\n",
       "  <tbody>\n",
       "    <tr>\n",
       "      <th>0</th>\n",
       "      <td>08/10/2000</td>\n",
       "      <td>SO</td>\n",
       "      <td>Statale dello Stelvio -P. Stelvio - Bormio</td>\n",
       "      <td>6</td>\n",
       "      <td>2</td>\n",
       "      <td>2</td>\n",
       "      <td>0</td>\n",
       "      <td>0</td>\n",
       "      <td>Persona su via di comunicazione</td>\n",
       "    </tr>\n",
       "    <tr>\n",
       "      <th>1</th>\n",
       "      <td>01/11/2000</td>\n",
       "      <td>BL</td>\n",
       "      <td>M. Marmolada -P. Rocca</td>\n",
       "      <td>1</td>\n",
       "      <td>2</td>\n",
       "      <td>0</td>\n",
       "      <td>2</td>\n",
       "      <td>0</td>\n",
       "      <td>Sci alpinista in salita</td>\n",
       "    </tr>\n",
       "    <tr>\n",
       "      <th>2</th>\n",
       "      <td>01/11/2000</td>\n",
       "      <td>SO</td>\n",
       "      <td>Monte Scorluzzo -P. Stelvio - Bormio</td>\n",
       "      <td>4</td>\n",
       "      <td>3</td>\n",
       "      <td>3</td>\n",
       "      <td>0</td>\n",
       "      <td>0</td>\n",
       "      <td>Sciatore in pista</td>\n",
       "    </tr>\n",
       "    <tr>\n",
       "      <th>3</th>\n",
       "      <td>02/11/2000</td>\n",
       "      <td>TN</td>\n",
       "      <td>Latemar -Pampeago</td>\n",
       "      <td>3</td>\n",
       "      <td>1</td>\n",
       "      <td>0</td>\n",
       "      <td>1</td>\n",
       "      <td>0</td>\n",
       "      <td>Sciatore fuori pista</td>\n",
       "    </tr>\n",
       "    <tr>\n",
       "      <th>4</th>\n",
       "      <td>05/11/2000</td>\n",
       "      <td>SO</td>\n",
       "      <td>M. Corno - Passo Foscagno - Livigno</td>\n",
       "      <td>2</td>\n",
       "      <td>4</td>\n",
       "      <td>2</td>\n",
       "      <td>2</td>\n",
       "      <td>0</td>\n",
       "      <td>Sci alpinista in discesa</td>\n",
       "    </tr>\n",
       "  </tbody>\n",
       "</table>\n",
       "</div>"
      ],
      "text/plain": [
       "         DATA PROVINCIA                                    LOCALITA  TIPO  \\\n",
       "0  08/10/2000        SO  Statale dello Stelvio -P. Stelvio - Bormio     6   \n",
       "1  01/11/2000        BL                      M. Marmolada -P. Rocca     1   \n",
       "2  01/11/2000        SO        Monte Scorluzzo -P. Stelvio - Bormio     4   \n",
       "3  02/11/2000        TN                           Latemar -Pampeago     3   \n",
       "4  05/11/2000        SO         M. Corno - Passo Foscagno - Livigno     2   \n",
       "\n",
       "   TRAVOLTI  ILLESI  FERITI  MORTI                       SITUAZIONE  \n",
       "0         2       2       0      0  Persona su via di comunicazione  \n",
       "1         2       0       2      0          Sci alpinista in salita  \n",
       "2         3       3       0      0                Sciatore in pista  \n",
       "3         1       0       1      0             Sciatore fuori pista  \n",
       "4         4       2       2      0         Sci alpinista in discesa  "
      ]
     },
     "execution_count": 49,
     "metadata": {},
     "output_type": "execute_result"
    }
   ],
   "source": [
    "cleandata.head()"
   ]
  },
  {
   "cell_type": "code",
   "execution_count": 50,
   "metadata": {
    "collapsed": false
   },
   "outputs": [
    {
     "data": {
      "text/plain": [
       "DATA           object\n",
       "PROVINCIA      object\n",
       "LOCALITA       object\n",
       "TIPO            int64\n",
       "TRAVOLTI      float64\n",
       "ILLESI        float64\n",
       "FERITI        float64\n",
       "MORTI         float64\n",
       "SITUAZIONE     object\n",
       "dtype: object"
      ]
     },
     "execution_count": 50,
     "metadata": {},
     "output_type": "execute_result"
    }
   ],
   "source": [
    "cleandata.dtypes"
   ]
  },
  {
   "cell_type": "code",
   "execution_count": 51,
   "metadata": {
    "collapsed": false
   },
   "outputs": [
    {
     "data": {
      "text/html": [
       "<div>\n",
       "<table border=\"1\" class=\"dataframe\">\n",
       "  <thead>\n",
       "    <tr style=\"text-align: right;\">\n",
       "      <th></th>\n",
       "      <th>DATA</th>\n",
       "      <th>PROVINCIA</th>\n",
       "      <th>LOCALITA</th>\n",
       "      <th>TIPO</th>\n",
       "      <th>TRAVOLTI</th>\n",
       "      <th>ILLESI</th>\n",
       "      <th>FERITI</th>\n",
       "      <th>MORTI</th>\n",
       "      <th>SITUAZIONE</th>\n",
       "    </tr>\n",
       "  </thead>\n",
       "  <tbody>\n",
       "    <tr>\n",
       "      <th>28</th>\n",
       "      <td>28/01/2001</td>\n",
       "      <td>CN</td>\n",
       "      <td>Colle di Sampeyre -Val Varaita</td>\n",
       "      <td>8</td>\n",
       "      <td>1</td>\n",
       "      <td>0</td>\n",
       "      <td>0</td>\n",
       "      <td>1</td>\n",
       "      <td>Altre situazioni</td>\n",
       "    </tr>\n",
       "    <tr>\n",
       "      <th>38</th>\n",
       "      <td>04/02/2001</td>\n",
       "      <td>CN</td>\n",
       "      <td>Cima delle Lose -Valle Stura</td>\n",
       "      <td>1</td>\n",
       "      <td>1</td>\n",
       "      <td>0</td>\n",
       "      <td>0</td>\n",
       "      <td>1</td>\n",
       "      <td>Sci alpinista in salita</td>\n",
       "    </tr>\n",
       "    <tr>\n",
       "      <th>185</th>\n",
       "      <td>22/02/2004</td>\n",
       "      <td>CN</td>\n",
       "      <td>Frabosa Sottana ArtesinaColle Bauzana</td>\n",
       "      <td>4</td>\n",
       "      <td>1</td>\n",
       "      <td>0</td>\n",
       "      <td>0</td>\n",
       "      <td>1</td>\n",
       "      <td>Sciatore in pista</td>\n",
       "    </tr>\n",
       "    <tr>\n",
       "      <th>228</th>\n",
       "      <td>12/03/2005</td>\n",
       "      <td>CN</td>\n",
       "      <td>Vinadio- C.Varirosa</td>\n",
       "      <td>5</td>\n",
       "      <td>1</td>\n",
       "      <td>0</td>\n",
       "      <td>0</td>\n",
       "      <td>1</td>\n",
       "      <td>Alpinista</td>\n",
       "    </tr>\n",
       "    <tr>\n",
       "      <th>241</th>\n",
       "      <td>15/05/2005</td>\n",
       "      <td>CN</td>\n",
       "      <td>Monviso</td>\n",
       "      <td>5</td>\n",
       "      <td>2</td>\n",
       "      <td>0</td>\n",
       "      <td>0</td>\n",
       "      <td>2</td>\n",
       "      <td>Alpinista</td>\n",
       "    </tr>\n",
       "    <tr>\n",
       "      <th>275</th>\n",
       "      <td>04/02/2006</td>\n",
       "      <td>CN</td>\n",
       "      <td>Punta Incianao</td>\n",
       "      <td>1</td>\n",
       "      <td>1</td>\n",
       "      <td>0</td>\n",
       "      <td>0</td>\n",
       "      <td>1</td>\n",
       "      <td>Sci alpinista in salita</td>\n",
       "    </tr>\n",
       "    <tr>\n",
       "      <th>276</th>\n",
       "      <td>04/02/2006</td>\n",
       "      <td>CN</td>\n",
       "      <td>Monte Sibolet</td>\n",
       "      <td>2</td>\n",
       "      <td>3</td>\n",
       "      <td>2</td>\n",
       "      <td>0</td>\n",
       "      <td>1</td>\n",
       "      <td>Sci alpinista in discesa</td>\n",
       "    </tr>\n",
       "    <tr>\n",
       "      <th>314</th>\n",
       "      <td>17/03/2006</td>\n",
       "      <td>CN</td>\n",
       "      <td>Crissolo</td>\n",
       "      <td>1</td>\n",
       "      <td>1</td>\n",
       "      <td>0</td>\n",
       "      <td>0</td>\n",
       "      <td>1</td>\n",
       "      <td>Sci alpinista in salita</td>\n",
       "    </tr>\n",
       "    <tr>\n",
       "      <th>515</th>\n",
       "      <td>13/02/2010</td>\n",
       "      <td>CN</td>\n",
       "      <td>Valle Gesso - M.te Merqua</td>\n",
       "      <td>2</td>\n",
       "      <td>1</td>\n",
       "      <td>0</td>\n",
       "      <td>0</td>\n",
       "      <td>1</td>\n",
       "      <td>Sci alpinista in discesa</td>\n",
       "    </tr>\n",
       "    <tr>\n",
       "      <th>824</th>\n",
       "      <td>04/05/2014</td>\n",
       "      <td>CN</td>\n",
       "      <td>Valle Gesso - Canale Lourousa</td>\n",
       "      <td>1</td>\n",
       "      <td>5</td>\n",
       "      <td>0</td>\n",
       "      <td>3</td>\n",
       "      <td>2</td>\n",
       "      <td>Sci alpinista in salita</td>\n",
       "    </tr>\n",
       "    <tr>\n",
       "      <th>836</th>\n",
       "      <td>12/12/2014</td>\n",
       "      <td>CN</td>\n",
       "      <td>S. Anna di Bellino Monte Faraut</td>\n",
       "      <td>1</td>\n",
       "      <td>1</td>\n",
       "      <td>0</td>\n",
       "      <td>0</td>\n",
       "      <td>1</td>\n",
       "      <td>Sci alpinista in salita</td>\n",
       "    </tr>\n",
       "    <tr>\n",
       "      <th>871</th>\n",
       "      <td>07/02/2015</td>\n",
       "      <td>CN</td>\n",
       "      <td>Argentera (CN)</td>\n",
       "      <td>3</td>\n",
       "      <td>1</td>\n",
       "      <td>0</td>\n",
       "      <td>0</td>\n",
       "      <td>1</td>\n",
       "      <td>Sciatore fuori pista</td>\n",
       "    </tr>\n",
       "    <tr>\n",
       "      <th>947</th>\n",
       "      <td>21/05/2016</td>\n",
       "      <td>CN</td>\n",
       "      <td>Valle Po-Monviso-Canale Coolidge</td>\n",
       "      <td>2</td>\n",
       "      <td>3</td>\n",
       "      <td>2</td>\n",
       "      <td>0</td>\n",
       "      <td>1</td>\n",
       "      <td>Sci alpinista in discesa</td>\n",
       "    </tr>\n",
       "  </tbody>\n",
       "</table>\n",
       "</div>"
      ],
      "text/plain": [
       "           DATA PROVINCIA                               LOCALITA  TIPO  \\\n",
       "28   28/01/2001        CN         Colle di Sampeyre -Val Varaita     8   \n",
       "38   04/02/2001        CN           Cima delle Lose -Valle Stura     1   \n",
       "185  22/02/2004        CN  Frabosa Sottana ArtesinaColle Bauzana     4   \n",
       "228  12/03/2005        CN                    Vinadio- C.Varirosa     5   \n",
       "241  15/05/2005        CN                                Monviso     5   \n",
       "275  04/02/2006        CN                         Punta Incianao     1   \n",
       "276  04/02/2006        CN                          Monte Sibolet     2   \n",
       "314  17/03/2006        CN                               Crissolo     1   \n",
       "515  13/02/2010        CN              Valle Gesso - M.te Merqua     2   \n",
       "824  04/05/2014        CN          Valle Gesso - Canale Lourousa     1   \n",
       "836  12/12/2014        CN        S. Anna di Bellino Monte Faraut     1   \n",
       "871  07/02/2015        CN                         Argentera (CN)     3   \n",
       "947  21/05/2016        CN       Valle Po-Monviso-Canale Coolidge     2   \n",
       "\n",
       "     TRAVOLTI  ILLESI  FERITI  MORTI                SITUAZIONE  \n",
       "28          1       0       0      1          Altre situazioni  \n",
       "38          1       0       0      1   Sci alpinista in salita  \n",
       "185         1       0       0      1         Sciatore in pista  \n",
       "228         1       0       0      1                 Alpinista  \n",
       "241         2       0       0      2                 Alpinista  \n",
       "275         1       0       0      1   Sci alpinista in salita  \n",
       "276         3       2       0      1  Sci alpinista in discesa  \n",
       "314         1       0       0      1   Sci alpinista in salita  \n",
       "515         1       0       0      1  Sci alpinista in discesa  \n",
       "824         5       0       3      2   Sci alpinista in salita  \n",
       "836         1       0       0      1   Sci alpinista in salita  \n",
       "871         1       0       0      1      Sciatore fuori pista  \n",
       "947         3       2       0      1  Sci alpinista in discesa  "
      ]
     },
     "execution_count": 51,
     "metadata": {},
     "output_type": "execute_result"
    }
   ],
   "source": [
    "cleandata.loc[(cleandata['PROVINCIA'] == 'CN') & (cleandata['MORTI'] > 0)]"
   ]
  },
  {
   "cell_type": "code",
   "execution_count": 52,
   "metadata": {
    "collapsed": false
   },
   "outputs": [
    {
     "data": {
      "text/html": [
       "<div>\n",
       "<table border=\"1\" class=\"dataframe\">\n",
       "  <thead>\n",
       "    <tr style=\"text-align: right;\">\n",
       "      <th></th>\n",
       "      <th>DATA</th>\n",
       "      <th>PROVINCIA</th>\n",
       "      <th>LOCALITA</th>\n",
       "      <th>TIPO</th>\n",
       "      <th>TRAVOLTI</th>\n",
       "      <th>ILLESI</th>\n",
       "      <th>FERITI</th>\n",
       "      <th>MORTI</th>\n",
       "      <th>SITUAZIONE</th>\n",
       "    </tr>\n",
       "  </thead>\n",
       "  <tbody>\n",
       "    <tr>\n",
       "      <th>871</th>\n",
       "      <td>07/02/2015</td>\n",
       "      <td>CN</td>\n",
       "      <td>Argentera (CN)</td>\n",
       "      <td>3</td>\n",
       "      <td>1</td>\n",
       "      <td>0</td>\n",
       "      <td>0</td>\n",
       "      <td>1</td>\n",
       "      <td>Sciatore fuori pista</td>\n",
       "    </tr>\n",
       "  </tbody>\n",
       "</table>\n",
       "</div>"
      ],
      "text/plain": [
       "           DATA PROVINCIA        LOCALITA  TIPO  TRAVOLTI  ILLESI  FERITI  \\\n",
       "871  07/02/2015        CN  Argentera (CN)     3         1       0       0   \n",
       "\n",
       "     MORTI            SITUAZIONE  \n",
       "871      1  Sciatore fuori pista  "
      ]
     },
     "execution_count": 52,
     "metadata": {},
     "output_type": "execute_result"
    }
   ],
   "source": [
    "cleandata.loc[(cleandata['PROVINCIA'] == 'CN') & (cleandata['MORTI'] > 0) &(cleandata['TIPO'] == 3)]"
   ]
  },
  {
   "cell_type": "code",
   "execution_count": 55,
   "metadata": {
    "collapsed": true
   },
   "outputs": [],
   "source": [
    "sums = cleandata.MORTI.groupby(cleandata.SITUAZIONE).sum()\n",
    "axis('equal');\n",
    "pie(sums, labels=sums.index);\n",
    "show()"
   ]
  },
  {
   "cell_type": "code",
   "execution_count": null,
   "metadata": {
    "collapsed": true
   },
   "outputs": [],
   "source": []
  }
 ],
 "metadata": {
  "kernelspec": {
   "display_name": "Python 2",
   "language": "python",
   "name": "python2"
  },
  "language_info": {
   "codemirror_mode": {
    "name": "ipython",
    "version": 2
   },
   "file_extension": ".py",
   "mimetype": "text/x-python",
   "name": "python",
   "nbconvert_exporter": "python",
   "pygments_lexer": "ipython2",
   "version": "2.7.11"
  }
 },
 "nbformat": 4,
 "nbformat_minor": 0
}
